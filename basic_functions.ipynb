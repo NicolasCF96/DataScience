{
 "cells": [
  {
   "cell_type": "code",
   "execution_count": 1,
   "metadata": {},
   "outputs": [],
   "source": [
    "dna_string = 'ACGTTGCATGTCGCATGATGCATGAGAGCT'"
   ]
  },
  {
   "cell_type": "code",
   "execution_count": 2,
   "metadata": {},
   "outputs": [],
   "source": [
    "length = 4"
   ]
  },
  {
   "cell_type": "code",
   "execution_count": 27,
   "metadata": {},
   "outputs": [],
   "source": [
    "def count_kmers_occurrences(dna_string,length):\n",
    "    kmers = {}\n",
    "    for i in range(0,len(dna_string)-length+1):\n",
    "        temp = dna_string[i:i+length]\n",
    "        if temp in kmers:\n",
    "            kmers[temp]+=1\n",
    "        else:\n",
    "            kmers[temp]=1\n",
    "    \n",
    "    kmers = sorted(kmers.items(), key=lambda kv: kv[1],reverse=True)\n",
    "    return kmers\n",
    "            \n",
    "    "
   ]
  },
  {
   "cell_type": "code",
   "execution_count": 10,
   "metadata": {},
   "outputs": [
    {
     "data": {
      "text/plain": [
       "30"
      ]
     },
     "execution_count": 10,
     "metadata": {},
     "output_type": "execute_result"
    }
   ],
   "source": [
    "len(dna_string)"
   ]
  },
  {
   "cell_type": "code",
   "execution_count": 29,
   "metadata": {},
   "outputs": [
    {
     "data": {
      "text/plain": [
       "[('GCAT', 3),\n",
       " ('CATG', 3),\n",
       " ('TGCA', 2),\n",
       " ('ATGA', 2),\n",
       " ('ACGT', 1),\n",
       " ('CGTT', 1),\n",
       " ('GTTG', 1),\n",
       " ('TTGC', 1),\n",
       " ('ATGT', 1),\n",
       " ('TGTC', 1),\n",
       " ('GTCG', 1),\n",
       " ('TCGC', 1),\n",
       " ('CGCA', 1),\n",
       " ('TGAT', 1),\n",
       " ('GATG', 1),\n",
       " ('ATGC', 1),\n",
       " ('TGAG', 1),\n",
       " ('GAGA', 1),\n",
       " ('AGAG', 1),\n",
       " ('GAGC', 1),\n",
       " ('AGCT', 1)]"
      ]
     },
     "execution_count": 29,
     "metadata": {},
     "output_type": "execute_result"
    }
   ],
   "source": [
    "count_kmers_occurrences(dna_string,length)"
   ]
  },
  {
   "cell_type": "code",
   "execution_count": 24,
   "metadata": {},
   "outputs": [
    {
     "data": {
      "text/plain": [
       "dict_items([('ACGT', 1), ('CGTT', 1), ('GTTG', 1), ('TTGC', 1), ('TGCA', 2), ('GCAT', 3), ('CATG', 3), ('ATGT', 1), ('TGTC', 1), ('GTCG', 1), ('TCGC', 1), ('CGCA', 1), ('ATGA', 2), ('TGAT', 1), ('GATG', 1), ('ATGC', 1), ('TGAG', 1), ('GAGA', 1), ('AGAG', 1), ('GAGC', 1), ('AGCT', 1)])"
      ]
     },
     "execution_count": 24,
     "metadata": {},
     "output_type": "execute_result"
    }
   ],
   "source": [
    "sorted()"
   ]
  },
  {
   "cell_type": "code",
   "execution_count": 26,
   "metadata": {
    "scrolled": true
   },
   "outputs": [
    {
     "data": {
      "text/plain": [
       "[('GCAT', 3),\n",
       " ('CATG', 3),\n",
       " ('TGCA', 2),\n",
       " ('ATGA', 2),\n",
       " ('ACGT', 1),\n",
       " ('CGTT', 1),\n",
       " ('GTTG', 1),\n",
       " ('TTGC', 1),\n",
       " ('ATGT', 1),\n",
       " ('TGTC', 1),\n",
       " ('GTCG', 1),\n",
       " ('TCGC', 1),\n",
       " ('CGCA', 1),\n",
       " ('TGAT', 1),\n",
       " ('GATG', 1),\n",
       " ('ATGC', 1),\n",
       " ('TGAG', 1),\n",
       " ('GAGA', 1),\n",
       " ('AGAG', 1),\n",
       " ('GAGC', 1),\n",
       " ('AGCT', 1)]"
      ]
     },
     "execution_count": 26,
     "metadata": {},
     "output_type": "execute_result"
    }
   ],
   "source": [
    "sorted(kmers.items(), key=lambda kv: kv[1],reverse=True)"
   ]
  },
  {
   "cell_type": "code",
   "execution_count": null,
   "metadata": {},
   "outputs": [],
   "source": [
    "sorted()"
   ]
  }
 ],
 "metadata": {
  "kernelspec": {
   "display_name": "Python 3",
   "language": "python",
   "name": "python3"
  },
  "language_info": {
   "codemirror_mode": {
    "name": "ipython",
    "version": 3
   },
   "file_extension": ".py",
   "mimetype": "text/x-python",
   "name": "python",
   "nbconvert_exporter": "python",
   "pygments_lexer": "ipython3",
   "version": "3.7.1"
  }
 },
 "nbformat": 4,
 "nbformat_minor": 2
}
