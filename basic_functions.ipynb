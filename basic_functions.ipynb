{
 "cells": [
  {
   "cell_type": "code",
   "execution_count": 1,
   "metadata": {},
   "outputs": [],
   "source": [
    "dna_string = 'ACGTTGCATGTCGCATGATGCATGAGAGCT'"
   ]
  },
  {
   "cell_type": "code",
   "execution_count": 2,
   "metadata": {},
   "outputs": [],
   "source": [
    "length = 4"
   ]
  },
  {
   "cell_type": "code",
   "execution_count": 27,
   "metadata": {},
   "outputs": [],
   "source": [
    "def count_kmers_occurrences(dna_string,length):\n",
    "    kmers = {}\n",
    "    for i in range(0,len(dna_string)-length+1):\n",
    "        temp = dna_string[i:i+length]\n",
    "        if temp in kmers:\n",
    "            kmers[temp]+=1\n",
    "        else:\n",
    "            kmers[temp]=1\n",
    "    \n",
    "    kmers = sorted(kmers.items(), key=lambda kv: kv[1],reverse=True)\n",
    "    return kmers\n",
    "            \n",
    "    "
   ]
  },
  {
   "cell_type": "code",
   "execution_count": 10,
   "metadata": {},
   "outputs": [
    {
     "data": {
      "text/plain": [
       "30"
      ]
     },
     "execution_count": 10,
     "metadata": {},
     "output_type": "execute_result"
    }
   ],
   "source": [
    "len(dna_string)"
   ]
  },
  {
   "cell_type": "code",
   "execution_count": 29,
   "metadata": {},
   "outputs": [
    {
     "data": {
      "text/plain": [
       "[('GCAT', 3),\n",
       " ('CATG', 3),\n",
       " ('TGCA', 2),\n",
       " ('ATGA', 2),\n",
       " ('ACGT', 1),\n",
       " ('CGTT', 1),\n",
       " ('GTTG', 1),\n",
       " ('TTGC', 1),\n",
       " ('ATGT', 1),\n",
       " ('TGTC', 1),\n",
       " ('GTCG', 1),\n",
       " ('TCGC', 1),\n",
       " ('CGCA', 1),\n",
       " ('TGAT', 1),\n",
       " ('GATG', 1),\n",
       " ('ATGC', 1),\n",
       " ('TGAG', 1),\n",
       " ('GAGA', 1),\n",
       " ('AGAG', 1),\n",
       " ('GAGC', 1),\n",
       " ('AGCT', 1)]"
      ]
     },
     "execution_count": 29,
     "metadata": {},
     "output_type": "execute_result"
    }
   ],
   "source": [
    "count_kmers_occurrences(dna_string,length)"
   ]
  },
  {
   "cell_type": "code",
   "execution_count": 24,
   "metadata": {},
   "outputs": [
    {
     "data": {
      "text/plain": [
       "dict_items([('ACGT', 1), ('CGTT', 1), ('GTTG', 1), ('TTGC', 1), ('TGCA', 2), ('GCAT', 3), ('CATG', 3), ('ATGT', 1), ('TGTC', 1), ('GTCG', 1), ('TCGC', 1), ('CGCA', 1), ('ATGA', 2), ('TGAT', 1), ('GATG', 1), ('ATGC', 1), ('TGAG', 1), ('GAGA', 1), ('AGAG', 1), ('GAGC', 1), ('AGCT', 1)])"
      ]
     },
     "execution_count": 24,
     "metadata": {},
     "output_type": "execute_result"
    }
   ],
   "source": [
    "sorted()"
   ]
  },
  {
   "cell_type": "code",
   "execution_count": 26,
   "metadata": {
    "scrolled": true
   },
   "outputs": [
    {
     "data": {
      "text/plain": [
       "[('GCAT', 3),\n",
       " ('CATG', 3),\n",
       " ('TGCA', 2),\n",
       " ('ATGA', 2),\n",
       " ('ACGT', 1),\n",
       " ('CGTT', 1),\n",
       " ('GTTG', 1),\n",
       " ('TTGC', 1),\n",
       " ('ATGT', 1),\n",
       " ('TGTC', 1),\n",
       " ('GTCG', 1),\n",
       " ('TCGC', 1),\n",
       " ('CGCA', 1),\n",
       " ('TGAT', 1),\n",
       " ('GATG', 1),\n",
       " ('ATGC', 1),\n",
       " ('TGAG', 1),\n",
       " ('GAGA', 1),\n",
       " ('AGAG', 1),\n",
       " ('GAGC', 1),\n",
       " ('AGCT', 1)]"
      ]
     },
     "execution_count": 26,
     "metadata": {},
     "output_type": "execute_result"
    }
   ],
   "source": [
    "sorted(kmers.items(), key=lambda kv: kv[1],reverse=True)"
   ]
  },
  {
   "cell_type": "code",
   "execution_count": 4,
   "metadata": {},
   "outputs": [
    {
     "data": {
      "text/plain": [
       "'C'"
      ]
     },
     "execution_count": 4,
     "metadata": {},
     "output_type": "execute_result"
    }
   ],
   "source": [
    "dna_string_2 = \"AAAACCCGGT\"\n",
    "i = 5\n",
    "dna_string_2[5]"
   ]
  },
  {
   "cell_type": "code",
   "execution_count": 15,
   "metadata": {},
   "outputs": [],
   "source": [
    "def complementary_dna_string(dna_string):\n",
    "    complementary_dna = \"\"\n",
    "    for i in reversed(range(len(dna_string))):\n",
    "        if dna_string[i]==\"A\":\n",
    "            complementary_dna += \"T\"\n",
    "        elif dna_string[i] ==\"T\":\n",
    "            complementary_dna +=\"A\"\n",
    "        elif dna_string[i] ==\"C\":\n",
    "            complementary_dna += \"G\"\n",
    "        else:\n",
    "            complementary_dna+=\"C\"\n",
    "    return complementary_dna"
   ]
  },
  {
   "cell_type": "code",
   "execution_count": 11,
   "metadata": {},
   "outputs": [
    {
     "name": "stdout",
     "output_type": "stream",
     "text": [
      "3\n",
      "2\n",
      "1\n",
      "0\n"
     ]
    }
   ],
   "source": [
    "for i in reversed(range(4)): print(i)"
   ]
  },
  {
   "cell_type": "code",
   "execution_count": 16,
   "metadata": {},
   "outputs": [
    {
     "data": {
      "text/plain": [
       "'ACCGGGTTTT'"
      ]
     },
     "execution_count": 16,
     "metadata": {},
     "output_type": "execute_result"
    }
   ],
   "source": [
    "complementary_dna_string(dna_string_2)"
   ]
  },
  {
   "cell_type": "code",
   "execution_count": 17,
   "metadata": {},
   "outputs": [],
   "source": [
    "def pattern_position(dna_string,pattern):\n",
    "    gen_positions=[]\n",
    "    for i in range(len(dna_string)):\n",
    "        gen=dna_string[i:i+len(pattern)]\n",
    "        if gen==pattern:\n",
    "            gen_positions.append(i)\n",
    "    return gen_positions\n",
    "            "
   ]
  },
  {
   "cell_type": "code",
   "execution_count": 18,
   "metadata": {},
   "outputs": [],
   "source": [
    "dna_string_3=\"GATATATGCATATACTT\""
   ]
  },
  {
   "cell_type": "code",
   "execution_count": 19,
   "metadata": {},
   "outputs": [],
   "source": [
    "pattern_1=\"ATAT\""
   ]
  },
  {
   "cell_type": "code",
   "execution_count": 21,
   "metadata": {},
   "outputs": [
    {
     "data": {
      "text/plain": [
       "[1, 3, 9]"
      ]
     },
     "execution_count": 21,
     "metadata": {},
     "output_type": "execute_result"
    }
   ],
   "source": [
    "pattern_position(dna_string_3,pattern_1)"
   ]
  },
  {
   "cell_type": "code",
   "execution_count": 22,
   "metadata": {},
   "outputs": [],
   "source": [
    "pattern_2=\"ATTGTG\""
   ]
  },
  {
   "cell_type": "code",
   "execution_count": 25,
   "metadata": {},
   "outputs": [
    {
     "data": {
      "text/plain": [
       "[]"
      ]
     },
     "execution_count": 25,
     "metadata": {},
     "output_type": "execute_result"
    }
   ],
   "source": [
    "pattern_position(dna_string_3,pattern_2)"
   ]
  },
  {
   "cell_type": "code",
   "execution_count": 66,
   "metadata": {},
   "outputs": [
    {
     "ename": "IndentationError",
     "evalue": "unexpected indent (<ipython-input-66-631ce2a480a6>, line 2)",
     "output_type": "error",
     "traceback": [
      "\u001b[1;36m  File \u001b[1;32m\"<ipython-input-66-631ce2a480a6>\"\u001b[1;36m, line \u001b[1;32m2\u001b[0m\n\u001b[1;33m    Patterns ← an empty set\u001b[0m\n\u001b[1;37m    ^\u001b[0m\n\u001b[1;31mIndentationError\u001b[0m\u001b[1;31m:\u001b[0m unexpected indent\n"
     ]
    }
   ],
   "source": [
    "MotifEnumeration(Dna, k, d)\n",
    "        Patterns ← an empty set\n",
    "        for each k-mer Pattern in Dna\n",
    "            for each k-mer Pattern’ differing from Pattern by at most d mismatches\n",
    "                if Pattern' appears in each string from Dna with at most d mismatches\n",
    "                    add Pattern' to Patterns\n",
    "        remove duplicates from Patterns\n",
    "        return Patterns"
   ]
  },
  {
   "cell_type": "code",
   "execution_count": null,
   "metadata": {},
   "outputs": [],
   "source": [
    "['GGC', 'CTT', 'TTA']"
   ]
  },
  {
   "cell_type": "code",
   "execution_count": 86,
   "metadata": {},
   "outputs": [],
   "source": [
    "def motif_possibilities(dna_list,k,d):\n",
    "    patterns=[]\n",
    "    for string in dna_list:\n",
    "        print('---------------------------')\n",
    "        print('Processing string: '+string)\n",
    "        print('---------------------------')\n",
    "        for i in range(len(string)-k+1):\n",
    "            pattern=string[i:i+k]\n",
    "            print('###########################')\n",
    "            print('## Pattern: '+pattern)\n",
    "            print('###########################')\n",
    "            pattern_count = 0\n",
    "            for string_2 in dna_list:\n",
    "                if string_2 != string:\n",
    "                    #print('Processing string: '+string_2)\n",
    "                    for j in range(len(string_2)-k+1):\n",
    "                        if sum ( pattern[l] != string_2[j:j+k][l] for l in range(len(string_2[j:j+k])) ) <=d:\n",
    "                            print('Match found in string: '+string_2+', subpattern: '+string_2[j:j+k])\n",
    "                            pattern_count+=1\n",
    "                            break\n",
    " \n",
    "            #print(pattern_count)\n",
    "            if (pattern_count>=len(dna_list)-1): patterns.append(pattern)\n",
    "    return list(dict.fromkeys(patterns))\n",
    "    #return patterns\n",
    "\n",
    "     "
   ]
  },
  {
   "cell_type": "code",
   "execution_count": 39,
   "metadata": {},
   "outputs": [],
   "source": [
    "dna_list=[\"ATTTGGC\",\"TGCCTTA\",\"CGGTATC\",\"GAAAATT\"]\n",
    "['GGC', 'CTT', 'TTA']"
   ]
  },
  {
   "cell_type": "code",
   "execution_count": 55,
   "metadata": {},
   "outputs": [
    {
     "data": {
      "text/plain": [
       "['ATTTGGC', 'TGCCTTA', 'CGGTATC', 'GAAAATT']"
      ]
     },
     "execution_count": 55,
     "metadata": {},
     "output_type": "execute_result"
    }
   ],
   "source": [
    "dna_list"
   ]
  },
  {
   "cell_type": "code",
   "execution_count": 87,
   "metadata": {},
   "outputs": [
    {
     "name": "stdout",
     "output_type": "stream",
     "text": [
      "---------------------------\n",
      "Processing string: ATTTGGC\n",
      "---------------------------\n",
      "###########################\n",
      "## Pattern: ATT\n",
      "###########################\n",
      "Match found in string: TGCCTTA, subpattern: CTT\n",
      "Match found in string: CGGTATC, subpattern: ATC\n",
      "Match found in string: GAAAATT, subpattern: AAT\n",
      "###########################\n",
      "## Pattern: TTT\n",
      "###########################\n",
      "Match found in string: TGCCTTA, subpattern: CTT\n",
      "Match found in string: CGGTATC, subpattern: TAT\n",
      "Match found in string: GAAAATT, subpattern: ATT\n",
      "###########################\n",
      "## Pattern: TTG\n",
      "###########################\n",
      "Match found in string: TGCCTTA, subpattern: TTA\n",
      "###########################\n",
      "## Pattern: TGG\n",
      "###########################\n",
      "Match found in string: TGCCTTA, subpattern: TGC\n",
      "Match found in string: CGGTATC, subpattern: CGG\n",
      "###########################\n",
      "## Pattern: GGC\n",
      "###########################\n",
      "Match found in string: TGCCTTA, subpattern: TGC\n",
      "Match found in string: CGGTATC, subpattern: GGT\n",
      "---------------------------\n",
      "Processing string: TGCCTTA\n",
      "---------------------------\n",
      "###########################\n",
      "## Pattern: TGC\n",
      "###########################\n",
      "Match found in string: ATTTGGC, subpattern: TGG\n",
      "###########################\n",
      "## Pattern: GCC\n",
      "###########################\n",
      "Match found in string: ATTTGGC, subpattern: GGC\n",
      "###########################\n",
      "## Pattern: CCT\n",
      "###########################\n",
      "###########################\n",
      "## Pattern: CTT\n",
      "###########################\n",
      "Match found in string: ATTTGGC, subpattern: ATT\n",
      "Match found in string: GAAAATT, subpattern: ATT\n",
      "###########################\n",
      "## Pattern: TTA\n",
      "###########################\n",
      "Match found in string: ATTTGGC, subpattern: TTT\n",
      "Match found in string: CGGTATC, subpattern: GTA\n",
      "---------------------------\n",
      "Processing string: CGGTATC\n",
      "---------------------------\n",
      "###########################\n",
      "## Pattern: CGG\n",
      "###########################\n",
      "Match found in string: ATTTGGC, subpattern: TGG\n",
      "###########################\n",
      "## Pattern: GGT\n",
      "###########################\n",
      "Match found in string: ATTTGGC, subpattern: GGC\n",
      "###########################\n",
      "## Pattern: GTA\n",
      "###########################\n",
      "Match found in string: TGCCTTA, subpattern: TTA\n",
      "Match found in string: GAAAATT, subpattern: GAA\n",
      "###########################\n",
      "## Pattern: TAT\n",
      "###########################\n",
      "Match found in string: ATTTGGC, subpattern: TTT\n",
      "Match found in string: GAAAATT, subpattern: AAT\n",
      "###########################\n",
      "## Pattern: ATC\n",
      "###########################\n",
      "Match found in string: ATTTGGC, subpattern: ATT\n",
      "Match found in string: GAAAATT, subpattern: ATT\n",
      "---------------------------\n",
      "Processing string: GAAAATT\n",
      "---------------------------\n",
      "###########################\n",
      "## Pattern: GAA\n",
      "###########################\n",
      "Match found in string: CGGTATC, subpattern: GTA\n",
      "###########################\n",
      "## Pattern: AAA\n",
      "###########################\n",
      "###########################\n",
      "## Pattern: AAA\n",
      "###########################\n",
      "###########################\n",
      "## Pattern: AAT\n",
      "###########################\n",
      "Match found in string: ATTTGGC, subpattern: ATT\n",
      "Match found in string: CGGTATC, subpattern: TAT\n",
      "###########################\n",
      "## Pattern: ATT\n",
      "###########################\n",
      "Match found in string: ATTTGGC, subpattern: ATT\n",
      "Match found in string: TGCCTTA, subpattern: CTT\n",
      "Match found in string: CGGTATC, subpattern: ATC\n"
     ]
    },
    {
     "data": {
      "text/plain": [
       "['ATT', 'TTT']"
      ]
     },
     "execution_count": 87,
     "metadata": {},
     "output_type": "execute_result"
    }
   ],
   "source": [
    "motif_possibilities(dna_list,3,1)"
   ]
  },
  {
   "cell_type": "code",
   "execution_count": 88,
   "metadata": {},
   "outputs": [
    {
     "data": {
      "text/plain": [
       "'GGACCTACGCACCAT'"
      ]
     },
     "execution_count": 88,
     "metadata": {},
     "output_type": "execute_result"
    }
   ],
   "source": [
    "complementary_dna_string(\"ATGGTGCGTAGGTCC\")"
   ]
  },
  {
   "cell_type": "code",
   "execution_count": null,
   "metadata": {},
   "outputs": [],
   "source": []
  }
 ],
 "metadata": {
  "kernelspec": {
   "display_name": "Python 3",
   "language": "python",
   "name": "python3"
  },
  "language_info": {
   "codemirror_mode": {
    "name": "ipython",
    "version": 3
   },
   "file_extension": ".py",
   "mimetype": "text/x-python",
   "name": "python",
   "nbconvert_exporter": "python",
   "pygments_lexer": "ipython3",
   "version": "3.7.1"
  }
 },
 "nbformat": 4,
 "nbformat_minor": 2
}
